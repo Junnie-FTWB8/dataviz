{
 "cells": [
  {
   "cell_type": "markdown",
   "metadata": {},
   "source": [
    "# SPARTA: Introduction to Data Visualization {-}\n",
    "By Ruben D. Canlas Jr. \n",
    "\n",
    "  [https://www.linkedin.com/in/rubencanlas/](https://www.linkedin.com/in/rubencanlas/) \n",
    "\n",
    "---\n",
    "\n",
    "<br />\n",
    "\n",
    "**COURSE OUTLINE**\n",
    "\n",
    "* Day 1: Data Visualization Basics\n",
    "* Day 2: Storytelling with Data\n",
    "\n",
    "<br />\n",
    "<br />\n",
    "\n",
    "\n",
    "**Today: Data Visualization Basics**\n",
    "\n",
    "1. Why is data visualization important?\n",
    "2. What is it?\n",
    "3. How do we do data visualization?\n",
    "\n",
    "<br />\n",
    "<br />\n",
    "<br />\n",
    "\n",
    "---"
   ]
  },
  {
   "cell_type": "code",
   "execution_count": null,
   "metadata": {},
   "outputs": [],
   "source": []
  },
  {
   "cell_type": "code",
   "execution_count": null,
   "metadata": {},
   "outputs": [],
   "source": []
  },
  {
   "cell_type": "code",
   "execution_count": null,
   "metadata": {},
   "outputs": [],
   "source": []
  },
  {
   "cell_type": "markdown",
   "metadata": {},
   "source": [
    "# Part 1: Why is data visualization important? \n",
    "\n",
    "## Warm Up: What do you know about any of these topics? \n",
    "\n",
    "Pick one and type your answers in chat. \n",
    "\n",
    "1. Exploratory Data Analysis (EDA)\n",
    "2. How visualization helps create informed decisions\n",
    "3. Mean or median\n",
    "4. The interquartile range (IQR)\n",
    "5. Box plots or violin plots\n",
    "\n",
    "\n",
    "**Type your answer in the chat box.**\n",
    "\n",
    "\n",
    "<img src=\"waiting-chat2.gif\" width=\"250px\" />\n",
    "\n",
    "\n",
    "\n",
    "<br />\n",
    "<br />\n",
    "<br />\n",
    "\n",
    " \n",
    "## The London Cholera Outbreak of 1854 \n",
    "\n",
    "* Killed 616 people\n",
    "* Source of infection found and stopped by **Dr. John Snow**\n",
    "* Using detective work and visualization\n",
    "* Started the discipline of epidemiology\n",
    "\n",
    "**_What did Dr. John Snow do?_**\n",
    "\n",
    "1. Got the addresses of the victims\n",
    "2. Got a map of London\n",
    "3. Marked deaths in a location using stacks of rectangles \n",
    "\n",
    "**This is the map that he made.**\n",
    "\n",
    "https://en.wikipedia.org/wiki/John_Snow#/media/File:Snow-cholera-map-1.jpg \n",
    "\n",
    "..."
   ]
  },
  {
   "cell_type": "markdown",
   "metadata": {},
   "source": [
    "![](Snow-cholera-map-small.png)"
   ]
  },
  {
   "cell_type": "markdown",
   "metadata": {},
   "source": [
    "## Notice these interesting features: \n",
    "\n",
    "* At the center of the map, see the tallest black stack of bars (Broad Street). \n",
    "* Victims frequented a pub in the area.\n",
    "* Pub drew water from a nearby pump. You can still see the location of the pump near the tall stack of bars.\n",
    "* Dr. Snow suspected that water was the source of the outbreak. The plot supported this hypothesis.\n",
    "* Actionable insight: try shutting down the pump. (It worked.)\n",
    "\n",
    "## Chat Storm: Write 1 sentence summarizing how visualization helped solve the cholera outbreak.  \n",
    "**Type your answer in the chat box.**\n",
    "\n",
    "\n",
    "<img src=\"waiting-chat2.gif\" width=\"250px\" />\n",
    "\n",
    "\n",
    "\n",
    "<br />\n",
    "<br />\n",
    "<br />\n",
    "<br />\n",
    "<br />\n",
    "<br />\n",
    "<br />\n",
    "<br />\n",
    "<br />\n",
    "\n",
    "## Some Insights \n",
    "\n",
    "1. Clustering morbidity data based on the address of the victim and visualizing this made the patterns stand out.\n",
    "2. Placing morbidity numbers on the map added a spatial dimension that further enriched the information.\n",
    "3. The visualization created an insight (potential source of the epidemic) that was actionable (seal off the water pump).\n",
    "\n",
    "<br />\n",
    "<br />\n",
    "<br />\n",
    "\n",
    "---\n",
    "\n",
    "# Part 2: What is data visualization?  \n",
    "\n",
    "A simple definition of data visualization: The use of charts, diagrams, pictures and any visual element to represent information.\n",
    "\n",
    "Visual elements include:\n",
    "\n",
    "* Shapes, lines, dots\n",
    "* Color and shading\n",
    "* Size\n",
    "* Symbols or icons\n",
    "* Maps\n",
    "* Images\n",
    "\n",
    "\n",
    "<br />\n",
    "<br />\n",
    "<br />\n",
    "\n",
    "\n",
    "...\n"
   ]
  },
  {
   "cell_type": "markdown",
   "metadata": {},
   "source": [
    "## Consider this sample dataset: \n",
    "\n",
    ".\n",
    "\n",
    "\n",
    "![](numbers-black2.png)\n"
   ]
  },
  {
   "cell_type": "markdown",
   "metadata": {},
   "source": [
    "## How easy will it be to find the answers to these questions?\n",
    "\n",
    "1. How many times does the number 5 occur? \n",
    "2. Which number occurs the most?\n",
    "\n",
    "<br />\n",
    "<br />\n",
    "\n",
    "**Let's tweak the formatting a bit...**\n",
    "\n",
    "![](numbers-with-color2.png)\n",
    "<br />\n",
    "<br />\n",
    "\n",
    "**Compared with the previous one, which display makes it easier for you to count the occurence of number 5 or find out which number occurs most frequently?**\n",
    "\n",
    "<br />\n",
    "<br />"
   ]
  },
  {
   "cell_type": "markdown",
   "metadata": {},
   "source": [
    "## Insights \n",
    "1. Our eyes and brain are programmed to notice differences quickly (survival instinct).\n",
    "2. Changing the color, for example, will make values stand out.\n",
    "3. Changing the font formatting can also highlight differences: eg, bold, itals, size, capitalization etc.\n",
    "\n",
    "_Let's make it more interesting._\n",
    "\n",
    "<br />\n",
    "<br />\n",
    "<br />\n",
    "\n",
    "\n",
    "\n"
   ]
  },
  {
   "cell_type": "markdown",
   "metadata": {},
   "source": [
    "_Same dataset, using bars._\n",
    "\n",
    "<br />\n",
    "<br />\n",
    "\n",
    "\n",
    "\n",
    "![](numbers-bar.png)\n",
    "\n",
    "\n",
    "## Questions \n",
    "\n",
    "1. What information do the x- and y-axes show?\n",
    "2. How easy is it to find patterns like the most or least frequent numbers?\n",
    "\n",
    "<br />\n",
    "<br />\n",
    "<br />\n",
    "\n"
   ]
  },
  {
   "cell_type": "code",
   "execution_count": null,
   "metadata": {},
   "outputs": [],
   "source": []
  },
  {
   "cell_type": "code",
   "execution_count": null,
   "metadata": {},
   "outputs": [],
   "source": []
  },
  {
   "cell_type": "code",
   "execution_count": null,
   "metadata": {},
   "outputs": [],
   "source": []
  },
  {
   "cell_type": "code",
   "execution_count": null,
   "metadata": {},
   "outputs": [],
   "source": []
  },
  {
   "cell_type": "code",
   "execution_count": null,
   "metadata": {},
   "outputs": [],
   "source": []
  },
  {
   "cell_type": "markdown",
   "metadata": {},
   "source": [
    "### Insights \n",
    "\n",
    "* Using a shape (bar) adds a new dimension, length\n",
    "* Length represents frequency count\n",
    "* Bars make it easier to spot trends. \n",
    "\n",
    "<br />\n",
    "<br />\n",
    "<br />"
   ]
  },
  {
   "cell_type": "markdown",
   "metadata": {},
   "source": [
    "\n",
    "Below is the same dataset but with a slight change. _What changed?_ \n",
    "\n",
    "![](numbers-bar-sorted.png)\n",
    "\n",
    "\n",
    "\n",
    "**Now, it's easier to answer these questions:**\n",
    "\n",
    "1. Which number occurs the most?\n",
    "2. What is the count of the most frequently appearing number? \n",
    "3. Which number occurs the least?\n",
    "4. What is the count of the least frequent number? \n",
    "\n",
    "_What made it easier to answer the questions using the second graph?_\n",
    "\n",
    "<br />\n",
    "<br />\n",
    "<br />\n",
    "\n"
   ]
  },
  {
   "cell_type": "code",
   "execution_count": null,
   "metadata": {},
   "outputs": [],
   "source": []
  },
  {
   "cell_type": "code",
   "execution_count": null,
   "metadata": {},
   "outputs": [],
   "source": []
  },
  {
   "cell_type": "code",
   "execution_count": null,
   "metadata": {},
   "outputs": [],
   "source": []
  },
  {
   "cell_type": "code",
   "execution_count": null,
   "metadata": {},
   "outputs": [],
   "source": []
  },
  {
   "cell_type": "code",
   "execution_count": null,
   "metadata": {},
   "outputs": [],
   "source": []
  },
  {
   "cell_type": "markdown",
   "metadata": {},
   "source": [
    "\n",
    "### Insight \n",
    "* Using a shape (bar) adds a new dimension, length\n",
    "* Length represents frequency count\n",
    "* Bars make it easier to spot trends.\n",
    "* **Sorting from most to least helps make comparisons easier.**\n",
    "\n",
    "<br />\n",
    "<br />\n",
    "<br />\n",
    "\n",
    "\n",
    "### Stretch and Summarize!  \n",
    "2 min\n",
    "\n",
    "Grab your notebook and summarize the important concepts you've learned in 1-3 sentences.\n",
    "\n",
    "<br />\n",
    "<br />\n",
    "<br />"
   ]
  },
  {
   "cell_type": "code",
   "execution_count": null,
   "metadata": {},
   "outputs": [],
   "source": []
  },
  {
   "cell_type": "code",
   "execution_count": null,
   "metadata": {},
   "outputs": [],
   "source": []
  },
  {
   "cell_type": "code",
   "execution_count": null,
   "metadata": {},
   "outputs": [],
   "source": []
  },
  {
   "cell_type": "code",
   "execution_count": null,
   "metadata": {},
   "outputs": [],
   "source": []
  },
  {
   "cell_type": "code",
   "execution_count": null,
   "metadata": {},
   "outputs": [],
   "source": []
  },
  {
   "cell_type": "markdown",
   "metadata": {},
   "source": [
    "### Introducing the Tips dataset \n",
    "\n",
    "We will be using the Tips dataset to understand how to do data visualization. \n",
    "Let's get familiar with it first."
   ]
  },
  {
   "cell_type": "markdown",
   "metadata": {},
   "source": [
    "\n",
    "\n",
    "\n",
    "![Snapshot of Tips dataset in tabular format](tips-excel-small.png) \n",
    "\n",
    "\n",
    "### Breakout: Exploring the Tips Dataset \n",
    "5 min\n",
    "\n",
    "**INSTRUCTIONS:**\n",
    "* Take a screenshot of the dataset, these instructions, and the questions below.\n",
    "* Join your breakout room.\n",
    "* Stand up, do some stretches and quickly introduce yourselves. \n",
    "* Stay standing while you try to answer the questions, below.\n",
    "\n",
    "**QUESTIONS:**\n",
    "\n",
    "1. Just by looking at the image above, what information can we get from the dataset?\n",
    "2. Take a guess about what each of the column headers mean.\n",
    "\n",
    "<br />\n",
    "<br />\n",
    "<br />\n",
    "\n",
    "**Note the following:**\n",
    "1. The data is in CSV format and you can find it here: [tips.csv in Github](https://github.com/rubencanlas/dataviz/blob/2cc016ba664b153aa5130aa81f1ce912c2702a6d/tips.csv)\n",
    "4. Above is a snaphsot of how the CSV file will look like, if opened as a spreadsheet.\n",
    "5. Jupyter Notebook can also load the CSV, using the `pandas.read_csv` command (demo in Part 3). [Read more](https://pandas.pydata.org/pandas-docs/stable/reference/api/pandas.read_csv.html)\n",
    "\n",
    "<br />\n",
    "<br />\n",
    "<br />\n",
    "\n",
    "\n",
    "---\n",
    "\n",
    "\n",
    "# Part 3: How do we do data visualization?   \n",
    "\n",
    "This is a demo of how to do data visualization and visual exploratory analysis, step by step. \n",
    "\n",
    "* Import the dataset in csv format, using `pandas`.\n",
    "* Explore the data with `pandas`.\n",
    "* Create some visuals using `seaborn` visualization library. \n",
    "\n",
    "## Importing and displaying a dataset using Pandas \n",
    "\n",
    "Below is a demo of how to read the tips.csv dataset and show a snapshot of it. "
   ]
  },
  {
   "cell_type": "code",
   "execution_count": 3,
   "metadata": {},
   "outputs": [
    {
     "data": {
      "text/html": [
       "<div>\n",
       "<style scoped>\n",
       "    .dataframe tbody tr th:only-of-type {\n",
       "        vertical-align: middle;\n",
       "    }\n",
       "\n",
       "    .dataframe tbody tr th {\n",
       "        vertical-align: top;\n",
       "    }\n",
       "\n",
       "    .dataframe thead th {\n",
       "        text-align: right;\n",
       "    }\n",
       "</style>\n",
       "<table border=\"1\" class=\"dataframe\">\n",
       "  <thead>\n",
       "    <tr style=\"text-align: right;\">\n",
       "      <th></th>\n",
       "      <th>total_bill</th>\n",
       "      <th>tip</th>\n",
       "      <th>sex</th>\n",
       "      <th>smoker</th>\n",
       "      <th>day</th>\n",
       "      <th>time</th>\n",
       "      <th>size</th>\n",
       "    </tr>\n",
       "  </thead>\n",
       "  <tbody>\n",
       "    <tr>\n",
       "      <th>0</th>\n",
       "      <td>16.99</td>\n",
       "      <td>1.01</td>\n",
       "      <td>Female</td>\n",
       "      <td>No</td>\n",
       "      <td>Sun</td>\n",
       "      <td>Dinner</td>\n",
       "      <td>2</td>\n",
       "    </tr>\n",
       "    <tr>\n",
       "      <th>1</th>\n",
       "      <td>10.34</td>\n",
       "      <td>1.66</td>\n",
       "      <td>Male</td>\n",
       "      <td>No</td>\n",
       "      <td>Sun</td>\n",
       "      <td>Dinner</td>\n",
       "      <td>3</td>\n",
       "    </tr>\n",
       "    <tr>\n",
       "      <th>2</th>\n",
       "      <td>21.01</td>\n",
       "      <td>3.50</td>\n",
       "      <td>Male</td>\n",
       "      <td>No</td>\n",
       "      <td>Sun</td>\n",
       "      <td>Dinner</td>\n",
       "      <td>3</td>\n",
       "    </tr>\n",
       "    <tr>\n",
       "      <th>3</th>\n",
       "      <td>23.68</td>\n",
       "      <td>3.31</td>\n",
       "      <td>Male</td>\n",
       "      <td>No</td>\n",
       "      <td>Sun</td>\n",
       "      <td>Dinner</td>\n",
       "      <td>2</td>\n",
       "    </tr>\n",
       "    <tr>\n",
       "      <th>4</th>\n",
       "      <td>24.59</td>\n",
       "      <td>3.61</td>\n",
       "      <td>Female</td>\n",
       "      <td>No</td>\n",
       "      <td>Sun</td>\n",
       "      <td>Dinner</td>\n",
       "      <td>4</td>\n",
       "    </tr>\n",
       "    <tr>\n",
       "      <th>...</th>\n",
       "      <td>...</td>\n",
       "      <td>...</td>\n",
       "      <td>...</td>\n",
       "      <td>...</td>\n",
       "      <td>...</td>\n",
       "      <td>...</td>\n",
       "      <td>...</td>\n",
       "    </tr>\n",
       "    <tr>\n",
       "      <th>239</th>\n",
       "      <td>29.03</td>\n",
       "      <td>5.92</td>\n",
       "      <td>Male</td>\n",
       "      <td>No</td>\n",
       "      <td>Sat</td>\n",
       "      <td>Dinner</td>\n",
       "      <td>3</td>\n",
       "    </tr>\n",
       "    <tr>\n",
       "      <th>240</th>\n",
       "      <td>27.18</td>\n",
       "      <td>2.00</td>\n",
       "      <td>Female</td>\n",
       "      <td>Yes</td>\n",
       "      <td>Sat</td>\n",
       "      <td>Dinner</td>\n",
       "      <td>2</td>\n",
       "    </tr>\n",
       "    <tr>\n",
       "      <th>241</th>\n",
       "      <td>22.67</td>\n",
       "      <td>2.00</td>\n",
       "      <td>Male</td>\n",
       "      <td>Yes</td>\n",
       "      <td>Sat</td>\n",
       "      <td>Dinner</td>\n",
       "      <td>2</td>\n",
       "    </tr>\n",
       "    <tr>\n",
       "      <th>242</th>\n",
       "      <td>17.82</td>\n",
       "      <td>1.75</td>\n",
       "      <td>Male</td>\n",
       "      <td>No</td>\n",
       "      <td>Sat</td>\n",
       "      <td>Dinner</td>\n",
       "      <td>2</td>\n",
       "    </tr>\n",
       "    <tr>\n",
       "      <th>243</th>\n",
       "      <td>18.78</td>\n",
       "      <td>3.00</td>\n",
       "      <td>Female</td>\n",
       "      <td>No</td>\n",
       "      <td>Thur</td>\n",
       "      <td>Dinner</td>\n",
       "      <td>2</td>\n",
       "    </tr>\n",
       "  </tbody>\n",
       "</table>\n",
       "<p>244 rows × 7 columns</p>\n",
       "</div>"
      ],
      "text/plain": [
       "     total_bill   tip     sex smoker   day    time  size\n",
       "0         16.99  1.01  Female     No   Sun  Dinner     2\n",
       "1         10.34  1.66    Male     No   Sun  Dinner     3\n",
       "2         21.01  3.50    Male     No   Sun  Dinner     3\n",
       "3         23.68  3.31    Male     No   Sun  Dinner     2\n",
       "4         24.59  3.61  Female     No   Sun  Dinner     4\n",
       "..          ...   ...     ...    ...   ...     ...   ...\n",
       "239       29.03  5.92    Male     No   Sat  Dinner     3\n",
       "240       27.18  2.00  Female    Yes   Sat  Dinner     2\n",
       "241       22.67  2.00    Male    Yes   Sat  Dinner     2\n",
       "242       17.82  1.75    Male     No   Sat  Dinner     2\n",
       "243       18.78  3.00  Female     No  Thur  Dinner     2\n",
       "\n",
       "[244 rows x 7 columns]"
      ]
     },
     "metadata": {},
     "output_type": "display_data"
    }
   ],
   "source": [
    "# Code 1.1\n",
    "# Import the pandas library and name it pd\n",
    "import pandas as pd\n",
    "\n",
    "# Using the read_csv() command, read the tips dataset and name it \"tips\"\n",
    "tips = pd.read_csv(\"tips.csv\")\n",
    "\n",
    "# Show the first 5 and last 5 records of the tips dataset\n",
    "display(tips)"
   ]
  },
  {
   "cell_type": "markdown",
   "metadata": {},
   "source": [
    "### Visualizing the tips dataset \n",
    "Let's try a common visual from high school: the scatter plot.\n"
   ]
  },
  {
   "cell_type": "code",
   "execution_count": 4,
   "metadata": {},
   "outputs": [
    {
     "data": {
      "image/png": "[encoded data removed]",
      "text/plain": [
       "<Figure size 605.875x500 with 1 Axes>"
      ]
     },
     "metadata": {},
     "output_type": "display_data"
    }
   ],
   "source": [
    "# Code 1.2\n",
    "# Use the Seaborn graphing library \n",
    "import seaborn as sns\n",
    "\n",
    "# Hide depcrecated warning\n",
    "import warnings\n",
    "warnings.filterwarnings('ignore')\n",
    "\n",
    "# Create the x-y plot\n",
    "sns.set()\n",
    "sns.relplot(x='total_bill', y='tip', hue='smoker', style='sex', size='size', data=tips);"
   ]
  },
  {
   "cell_type": "markdown",
   "metadata": {},
   "source": [
    "## Insights from the scatter plot \n",
    "\n",
    "* Shows multiple dimensions in a 2-D plot (aka the columns)\n",
    "  * Total bill amount\n",
    "  * Tip amount\n",
    "  * Gender\n",
    "  * Smoker or not\n",
    "  * Number of diners in the table\n",
    "* By using these elements\n",
    "  * Color: orange, blue, black\n",
    "  * Symbols: x, circle \n",
    "  * Size: varying sizes of x and circle\n",
    "\n",
    "<br />\n",
    "<br />\n",
    "<br />\n",
    "\n",
    "**_But: imagine if this were a large dataset._**\n",
    "<br />\n",
    "* Overlapping symbols\n",
    "* Bigger shapes will cover others\n",
    "\n",
    "We need other ways of visualizing the information. \n",
    "\n",
    "<br />\n",
    "\n",
    "**_Let's try other ways of exploring the dataset_**\n",
    "<br />\n",
    "<br />\n",
    "<br />\n",
    "\n"
   ]
  },
  {
   "cell_type": "code",
   "execution_count": null,
   "metadata": {},
   "outputs": [],
   "source": []
  },
  {
   "cell_type": "code",
   "execution_count": null,
   "metadata": {},
   "outputs": [],
   "source": []
  },
  {
   "cell_type": "code",
   "execution_count": null,
   "metadata": {},
   "outputs": [],
   "source": []
  },
  {
   "cell_type": "code",
   "execution_count": null,
   "metadata": {},
   "outputs": [],
   "source": []
  },
  {
   "cell_type": "markdown",
   "metadata": {},
   "source": [
    "## Exploratory Data Analysis (EDA) \n",
    "\n",
    "### Key points \n",
    "* Described in John Tukey's book, _Exploratory Data Analysis_ (1977)\n",
    "* As a balance to confirmatory data analysis (start from a hypothesis and test it)\n",
    "* Contrast: EDA means no hypothesis, just inspect the data\n",
    "* Primary method used in data mining\n",
    "\n",
    "### Goals of EDA \n",
    "\n",
    "* Discover unexpected features, patterns, and anomalies in the dataset\n",
    "* Provide clues on what or where to investigate further\n",
    "* Start the seeds of a hypothesis that could lead to major discoveries\n",
    "\n",
    "See [Wikipedia](https://en.wikipedia.org/wiki/Exploratory_data_analysis)\n",
    "\n",
    "### How we do the exploration \n",
    "The way we explore data is by trying to feel around for the \"shape\" of the data. The method to do this includes investigating these:\n",
    "  * Central tendency versus the dispersion of values across the dataset\n",
    "  * How data tend to form clusters\n",
    "  * Frequently occuring values\n",
    "  * Outliers and how they affect the dataset\n",
    "   \n",
    "  \n",
    "**_Let's start exploring some data using statistical summaries._**\n",
    "\n",
    "Below, we create a sample dataset. Let's make a hypothetical subset of the Tips data, for a few minutes of restaurant operations during a Friday.\n",
    "\n",
    "<br />\n",
    "<br />"
   ]
  },
  {
   "cell_type": "code",
   "execution_count": 6,
   "metadata": {},
   "outputs": [
    {
     "data": {
      "text/html": [
       "<div>\n",
       "<style scoped>\n",
       "    .dataframe tbody tr th:only-of-type {\n",
       "        vertical-align: middle;\n",
       "    }\n",
       "\n",
       "    .dataframe tbody tr th {\n",
       "        vertical-align: top;\n",
       "    }\n",
       "\n",
       "    .dataframe thead th {\n",
       "        text-align: right;\n",
       "    }\n",
       "</style>\n",
       "<table border=\"1\" class=\"dataframe\">\n",
       "  <thead>\n",
       "    <tr style=\"text-align: right;\">\n",
       "      <th></th>\n",
       "      <th>Amounts</th>\n",
       "    </tr>\n",
       "  </thead>\n",
       "  <tbody>\n",
       "    <tr>\n",
       "      <th>0</th>\n",
       "      <td>1</td>\n",
       "    </tr>\n",
       "    <tr>\n",
       "      <th>1</th>\n",
       "      <td>1</td>\n",
       "    </tr>\n",
       "    <tr>\n",
       "      <th>2</th>\n",
       "      <td>1</td>\n",
       "    </tr>\n",
       "    <tr>\n",
       "      <th>3</th>\n",
       "      <td>2</td>\n",
       "    </tr>\n",
       "    <tr>\n",
       "      <th>4</th>\n",
       "      <td>2</td>\n",
       "    </tr>\n",
       "    <tr>\n",
       "      <th>5</th>\n",
       "      <td>2</td>\n",
       "    </tr>\n",
       "    <tr>\n",
       "      <th>6</th>\n",
       "      <td>2</td>\n",
       "    </tr>\n",
       "    <tr>\n",
       "      <th>7</th>\n",
       "      <td>8</td>\n",
       "    </tr>\n",
       "    <tr>\n",
       "      <th>8</th>\n",
       "      <td>9</td>\n",
       "    </tr>\n",
       "    <tr>\n",
       "      <th>9</th>\n",
       "      <td>12</td>\n",
       "    </tr>\n",
       "  </tbody>\n",
       "</table>\n",
       "</div>"
      ],
      "text/plain": [
       "   Amounts\n",
       "0        1\n",
       "1        1\n",
       "2        1\n",
       "3        2\n",
       "4        2\n",
       "5        2\n",
       "6        2\n",
       "7        8\n",
       "8        9\n",
       "9       12"
      ]
     },
     "execution_count": 6,
     "metadata": {},
     "output_type": "execute_result"
    }
   ],
   "source": [
    "# You need to install the pandas library to be able to do this.\n",
    "# The first command imports the pandas library into an object called \"pd\". \n",
    "# pd now contains the functions available to pandas. We invoke the functions using the . command\n",
    "# hence, in the example below, pd.DataFrame() invokes the DataFrame function.\n",
    "\n",
    "import pandas as pd\n",
    "# BTW, pd is lousy name but it's the convention and you'll find it a lot in pandas documentation \n",
    "  \n",
    "# Generate sample data. This is just made up data.\n",
    "data = [1,1,1,2,2,2,2,8,9,12]\n",
    "  \n",
    "# Create a pandas DataFrame, store the dataset as \"fridaytips\", label the column as \"Amounts\".\n",
    "fridaytips = pd.DataFrame(data, columns=['Amounts']) \n",
    "  \n",
    "# Print the sample data we created \n",
    "fridaytips"
   ]
  },
  {
   "cell_type": "markdown",
   "metadata": {},
   "source": [
    "**A few notes:**\n",
    "\n",
    "* Our dataset is called `fridaytips`. \n",
    "* Technically, it is no longer just a dataset. It is a pandas `DataFrame`.\n",
    "* That is, `fridaytips` now possesses useful analytical commands like `.describe()` demonstrated below.\n",
    "\n",
    "<br />\n",
    "<br />\n",
    "<br />"
   ]
  },
  {
   "cell_type": "code",
   "execution_count": 7,
   "metadata": {},
   "outputs": [
    {
     "data": {
      "text/html": [
       "<div>\n",
       "<style scoped>\n",
       "    .dataframe tbody tr th:only-of-type {\n",
       "        vertical-align: middle;\n",
       "    }\n",
       "\n",
       "    .dataframe tbody tr th {\n",
       "        vertical-align: top;\n",
       "    }\n",
       "\n",
       "    .dataframe thead th {\n",
       "        text-align: right;\n",
       "    }\n",
       "</style>\n",
       "<table border=\"1\" class=\"dataframe\">\n",
       "  <thead>\n",
       "    <tr style=\"text-align: right;\">\n",
       "      <th></th>\n",
       "      <th>Amounts</th>\n",
       "    </tr>\n",
       "  </thead>\n",
       "  <tbody>\n",
       "    <tr>\n",
       "      <th>count</th>\n",
       "      <td>10.000000</td>\n",
       "    </tr>\n",
       "    <tr>\n",
       "      <th>mean</th>\n",
       "      <td>4.000000</td>\n",
       "    </tr>\n",
       "    <tr>\n",
       "      <th>std</th>\n",
       "      <td>4.055175</td>\n",
       "    </tr>\n",
       "    <tr>\n",
       "      <th>min</th>\n",
       "      <td>1.000000</td>\n",
       "    </tr>\n",
       "    <tr>\n",
       "      <th>25%</th>\n",
       "      <td>1.250000</td>\n",
       "    </tr>\n",
       "    <tr>\n",
       "      <th>50%</th>\n",
       "      <td>2.000000</td>\n",
       "    </tr>\n",
       "    <tr>\n",
       "      <th>75%</th>\n",
       "      <td>6.500000</td>\n",
       "    </tr>\n",
       "    <tr>\n",
       "      <th>max</th>\n",
       "      <td>12.000000</td>\n",
       "    </tr>\n",
       "  </tbody>\n",
       "</table>\n",
       "</div>"
      ],
      "text/plain": [
       "         Amounts\n",
       "count  10.000000\n",
       "mean    4.000000\n",
       "std     4.055175\n",
       "min     1.000000\n",
       "25%     1.250000\n",
       "50%     2.000000\n",
       "75%     6.500000\n",
       "max    12.000000"
      ]
     },
     "execution_count": 7,
     "metadata": {},
     "output_type": "execute_result"
    }
   ],
   "source": [
    "# The `.describe()` function gives out descriptive statistics to show centrality and dispersion \n",
    "# Find out more: https://pandas.pydata.org/pandas-docs/stable/reference/api/pandas.DataFrame.describe.html\n",
    "\n",
    "fridaytips.describe()"
   ]
  },
  {
   "cell_type": "markdown",
   "metadata": {},
   "source": [
    "### Visual Exploratory Data Analysis \n",
    "\n",
    "Bar graphs, scatter plots etc: subset of EDA called **Visual Exploratory Data Analysis (VEDA).**\n",
    "\n",
    "VEDA uses visuals to facilitate summarizing and reporting of datasets. Dashboards are an example of VEDA. \n",
    "\n",
    "Let's do more VEDA using a visual called box plot.\n",
    "<br />\n",
    "<br />\n",
    "<br />\n"
   ]
  },
  {
   "cell_type": "code",
   "execution_count": 8,
   "metadata": {},
   "outputs": [
    {
     "data": {
      "image/png": "[encoded data removed]",
      "text/plain": [
       "<Figure size 640x480 with 1 Axes>"
      ]
     },
     "metadata": {},
     "output_type": "display_data"
    }
   ],
   "source": [
    "# Use the Seaborn graphing library \n",
    "# Store the library in an object called 'sns'\n",
    "# BTW, sns is lousy name but it's the convention and you'll find it a lot in seaborn documentation \n",
    "\n",
    "import seaborn as sns\n",
    "\n",
    "# Create the visualization\n",
    "sns.boxplot(data=fridaytips);"
   ]
  },
  {
   "cell_type": "markdown",
   "metadata": {},
   "source": [
    "## Breakout\n",
    "10 min\n",
    "\n",
    "**Questions about the Friday tips dataset:**\n",
    "\n",
    "Investigate the box plot by comparing it to the statistical summary generated by `fridaytips.describe()`. \n",
    "\n",
    "1. How much is the median tip value?\n",
    "2. Where is the median located in the box plot?\n",
    "4. What values do the horizontal lines on 1 and 12 indicate?\n",
    "5. What does the blue box represent?\n",
    "6. What value does the _upper_ edge of the blue box show?\n",
    "7. What value does the _lower_ edge of the blue box show?\n",
    "8. What causes the blue box to \"sink\" towards the bottom of the vertical axis? "
   ]
  },
  {
   "cell_type": "code",
   "execution_count": null,
   "metadata": {},
   "outputs": [],
   "source": []
  },
  {
   "cell_type": "code",
   "execution_count": null,
   "metadata": {},
   "outputs": [],
   "source": []
  },
  {
   "cell_type": "code",
   "execution_count": null,
   "metadata": {},
   "outputs": [],
   "source": []
  },
  {
   "cell_type": "code",
   "execution_count": null,
   "metadata": {},
   "outputs": [],
   "source": []
  },
  {
   "cell_type": "markdown",
   "metadata": {},
   "source": [
    "## Exploring data through IQR \n",
    "\n",
    "The 25%, 50%, and 75% values are known as the **Interquartile Range (IQR)**. The IQR shows:\n",
    "* How data is spread out\n",
    "* The **median** - if you listed all values in ascending order, find the mid-point of the list. The value at the mid-point is the median. \n",
    "* Best visualized as a **box plot**\n",
    "\n",
    "![](boxplot-iqr-small.png)\n",
    "\n",
    "### Learn more about box plots\n",
    "Read this: [Learn more about box plots, outliers, and the max and min values](https://www.statology.org/how-to-read-box-plot-with-outliers/)\n",
    "\n",
    "<br />\n",
    "<br />\n",
    "<br />"
   ]
  },
  {
   "cell_type": "code",
   "execution_count": 9,
   "metadata": {
    "scrolled": true
   },
   "outputs": [
    {
     "data": {
      "text/html": [
       "<div>\n",
       "<style scoped>\n",
       "    .dataframe tbody tr th:only-of-type {\n",
       "        vertical-align: middle;\n",
       "    }\n",
       "\n",
       "    .dataframe tbody tr th {\n",
       "        vertical-align: top;\n",
       "    }\n",
       "\n",
       "    .dataframe thead th {\n",
       "        text-align: right;\n",
       "    }\n",
       "</style>\n",
       "<table border=\"1\" class=\"dataframe\">\n",
       "  <thead>\n",
       "    <tr style=\"text-align: right;\">\n",
       "      <th></th>\n",
       "      <th>total_bill</th>\n",
       "      <th>tip</th>\n",
       "      <th>size</th>\n",
       "    </tr>\n",
       "  </thead>\n",
       "  <tbody>\n",
       "    <tr>\n",
       "      <th>count</th>\n",
       "      <td>244.000000</td>\n",
       "      <td>244.000000</td>\n",
       "      <td>244.000000</td>\n",
       "    </tr>\n",
       "    <tr>\n",
       "      <th>mean</th>\n",
       "      <td>19.785943</td>\n",
       "      <td>2.998279</td>\n",
       "      <td>2.569672</td>\n",
       "    </tr>\n",
       "    <tr>\n",
       "      <th>std</th>\n",
       "      <td>8.902412</td>\n",
       "      <td>1.383638</td>\n",
       "      <td>0.951100</td>\n",
       "    </tr>\n",
       "    <tr>\n",
       "      <th>min</th>\n",
       "      <td>3.070000</td>\n",
       "      <td>1.000000</td>\n",
       "      <td>1.000000</td>\n",
       "    </tr>\n",
       "    <tr>\n",
       "      <th>25%</th>\n",
       "      <td>13.347500</td>\n",
       "      <td>2.000000</td>\n",
       "      <td>2.000000</td>\n",
       "    </tr>\n",
       "    <tr>\n",
       "      <th>50%</th>\n",
       "      <td>17.795000</td>\n",
       "      <td>2.900000</td>\n",
       "      <td>2.000000</td>\n",
       "    </tr>\n",
       "    <tr>\n",
       "      <th>75%</th>\n",
       "      <td>24.127500</td>\n",
       "      <td>3.562500</td>\n",
       "      <td>3.000000</td>\n",
       "    </tr>\n",
       "    <tr>\n",
       "      <th>max</th>\n",
       "      <td>50.810000</td>\n",
       "      <td>10.000000</td>\n",
       "      <td>6.000000</td>\n",
       "    </tr>\n",
       "  </tbody>\n",
       "</table>\n",
       "</div>"
      ],
      "text/plain": [
       "       total_bill         tip        size\n",
       "count  244.000000  244.000000  244.000000\n",
       "mean    19.785943    2.998279    2.569672\n",
       "std      8.902412    1.383638    0.951100\n",
       "min      3.070000    1.000000    1.000000\n",
       "25%     13.347500    2.000000    2.000000\n",
       "50%     17.795000    2.900000    2.000000\n",
       "75%     24.127500    3.562500    3.000000\n",
       "max     50.810000   10.000000    6.000000"
      ]
     },
     "execution_count": 9,
     "metadata": {},
     "output_type": "execute_result"
    }
   ],
   "source": [
    "# Code 1.3\n",
    "tips.describe()"
   ]
  },
  {
   "cell_type": "markdown",
   "metadata": {},
   "source": [
    "## Pop quiz\n",
    "\n",
    "1. What is the typical tip amount? \n",
    "2. How many records are in the dataset?\n",
    "3. What was the highest tip given?\n",
    "4. The lowest tip?\n",
    "5. What do the values in 25%, 50%, 75% mean?  \n"
   ]
  },
  {
   "cell_type": "code",
   "execution_count": null,
   "metadata": {},
   "outputs": [],
   "source": []
  },
  {
   "cell_type": "code",
   "execution_count": null,
   "metadata": {},
   "outputs": [],
   "source": []
  },
  {
   "cell_type": "code",
   "execution_count": null,
   "metadata": {},
   "outputs": [],
   "source": []
  },
  {
   "cell_type": "code",
   "execution_count": null,
   "metadata": {},
   "outputs": [],
   "source": []
  },
  {
   "cell_type": "code",
   "execution_count": null,
   "metadata": {},
   "outputs": [],
   "source": []
  },
  {
   "cell_type": "code",
   "execution_count": 10,
   "metadata": {},
   "outputs": [
    {
     "data": {
      "image/png": "[encoded data removed]",
      "text/plain": [
       "<Figure size 640x480 with 1 Axes>"
      ]
     },
     "metadata": {},
     "output_type": "display_data"
    }
   ],
   "source": [
    "# Code 1.4\n",
    "# Use the Seaborn graphing library \n",
    "import seaborn as sns\n",
    "\n",
    "# Create the visualization\n",
    "sns.boxplot(x=\"day\", y=\"tip\", \n",
    "            data=tips, \n",
    "            order=['Thur','Fri', 'Sat', 'Sun']);"
   ]
  },
  {
   "cell_type": "markdown",
   "metadata": {},
   "source": [
    "## Breakout: Analyzing the Boxplots \n",
    "5 min\n",
    "\n",
    "1. What are the highest and lowest tip amounts in a week? \n",
    "2. Which day/s have the highest median tip value?\n",
    "3. What is interesting about Thur and Fri?\n",
    "4. What is different about Sun tips? How might you explain the difference?\n",
    "\n",
    "<br />\n",
    "<br />\n",
    "<br />\n"
   ]
  },
  {
   "cell_type": "markdown",
   "metadata": {},
   "source": [
    "## Violin plots\n",
    "\n",
    "The graph below is the same dataset, but now using violin plots. "
   ]
  },
  {
   "cell_type": "code",
   "execution_count": 11,
   "metadata": {},
   "outputs": [
    {
     "data": {
      "image/png": "[encoded data removed]",
      "text/plain": [
       "<Figure size 1520.63x1000 with 1 Axes>"
      ]
     },
     "metadata": {},
     "output_type": "display_data"
    }
   ],
   "source": [
    "# Code 1.5\n",
    "# Set up the graph in Seaborn\n",
    "sns.set_style(\"whitegrid\")\n",
    "\n",
    "# Graph the violin plot with the specs in the paranthesis\n",
    "sns.catplot(x=\"day\", y=\"tip\", hue=\"sex\", kind=\"violin\", split=True, height=10, aspect=11.7/8.27, data=tips);"
   ]
  },
  {
   "cell_type": "markdown",
   "metadata": {},
   "source": [
    "## Violin plots, explained\n",
    ".\n"
   ]
  },
  {
   "cell_type": "markdown",
   "metadata": {},
   "source": [
    "![Violin IQR labeled](violinplot-iqr-small.png)\n",
    "![Violin Skew](violinplot-skew-small.png)"
   ]
  },
  {
   "cell_type": "markdown",
   "metadata": {},
   "source": [
    "## Breakout: Visual Investigation\n",
    "5 min\n",
    "\n",
    "Take screenshots of the images above and answer the following in your group:\n",
    "\n",
    "1. What dimensions can you get from the violin plot?\n",
    "2. When do waiters get the most tips?\n",
    "3. Which gender tips the most? \n",
    "4. What is the median tip amount for Fri compared to Thur?\n",
    "5. What information can you extract from the shape densities?\n",
    "\n",
    "\n",
    "---"
   ]
  },
  {
   "cell_type": "markdown",
   "metadata": {},
   "source": [
    "## Conclusion {-}\n",
    "1. Caveat: EDA is exploratory, to get an initial sense of the dataset. \n",
    "2. Needs deeper investigation: validate.\n",
    "3. GIGO: Garbage In, Garbage Out."
   ]
  },
  {
   "cell_type": "markdown",
   "metadata": {},
   "source": [
    "## Breakout: Pair Share   {-}\n",
    "5 min\n",
    "\n",
    "Pick one question below and take turns sharing about the question you picked. <br/>\n",
    "**Time limit: 1 minute per speaker.**\n",
    "\n",
    "QUESTIONS (Pick only one)\n",
    "\n",
    "1. What is 1 important idea that you will use at work? \n",
    "2. What is 1 idea you would like to investigate further?\n",
    "3. What is 1 question I still have about data visualization?\n",
    "\n"
   ]
  }
 ],
 "metadata": {
  "kernelspec": {
   "display_name": "Python 3 (ipykernel)",
   "language": "python",
   "name": "python3"
  },
  "language_info": {
   "codemirror_mode": {
    "name": "ipython",
    "version": 3
   },
   "file_extension": ".py",
   "mimetype": "text/x-python",
   "name": "python",
   "nbconvert_exporter": "python",
   "pygments_lexer": "ipython3",
   "version": "3.11.5"
  }
 },
 "nbformat": 4,
 "nbformat_minor": 4
}
